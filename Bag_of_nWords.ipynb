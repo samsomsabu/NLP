{
  "nbformat": 4,
  "nbformat_minor": 0,
  "metadata": {
    "colab": {
      "provenance": [],
      "authorship_tag": "ABX9TyP2I3RqWnPmEBJxsAehA4Xk",
      "include_colab_link": true
    },
    "kernelspec": {
      "name": "python3",
      "display_name": "Python 3"
    },
    "language_info": {
      "name": "python"
    }
  },
  "cells": [
    {
      "cell_type": "markdown",
      "metadata": {
        "id": "view-in-github",
        "colab_type": "text"
      },
      "source": [
        "<a href=\"https://colab.research.google.com/github/samsomsabu/NLP/blob/main/Bag_of_nWords.ipynb\" target=\"_parent\"><img src=\"https://colab.research.google.com/assets/colab-badge.svg\" alt=\"Open In Colab\"/></a>"
      ]
    },
    {
      "cell_type": "code",
      "execution_count": 5,
      "metadata": {
        "colab": {
          "base_uri": "https://localhost:8080/"
        },
        "id": "gp9RRSrLi3hu",
        "outputId": "0f542b0c-d132-41fb-88bd-ccbf76e3bb53"
      },
      "outputs": [
        {
          "output_type": "stream",
          "name": "stderr",
          "text": [
            "[nltk_data] Downloading package punkt to /root/nltk_data...\n",
            "[nltk_data]   Unzipping tokenizers/punkt.zip.\n"
          ]
        }
      ],
      "source": [
        "import nltk\n",
        "nltk.download('punkt') # Download 'punkt'\n",
        "# from nltk if it's not downloaded\n",
        "from nltk.tokenize import sent_tokenize\n",
        "from sklearn.feature_extraction.text import CountVectorizer\n",
        "\n"
      ]
    },
    {
      "cell_type": "code",
      "source": [
        "Text = \"\"\"GeeksForGeeks.\n",
        "\t\tGeeks Learning Together.\n",
        "\t\tGeeksForGeeks is famous for DSA.\n",
        "\t\tLearning DSA\"\"\"\n",
        "\n"
      ],
      "metadata": {
        "id": "X3_BXTumi6UK"
      },
      "execution_count": 6,
      "outputs": []
    },
    {
      "cell_type": "code",
      "source": [
        "# TOKENIZATION\n",
        "sentences = sent_tokenize(Text)\n",
        "sentences = [sent.lower().replace(\".\", \"\") for sent in sentences]\n",
        "print('Our Corpus:', sentences)\n",
        "\n"
      ],
      "metadata": {
        "colab": {
          "base_uri": "https://localhost:8080/"
        },
        "id": "SU2vznini9QF",
        "outputId": "73b03d7e-5c96-4084-90a0-b8216c381469"
      },
      "execution_count": 7,
      "outputs": [
        {
          "output_type": "stream",
          "name": "stdout",
          "text": [
            "Our Corpus: ['geeksforgeeks', 'geeks learning together', 'geeksforgeeks is famous for dsa', 'learning dsa']\n"
          ]
        }
      ]
    },
    {
      "cell_type": "code",
      "source": [
        "# Ngram vectorization example with count\n",
        "# vectorizer and uni, bi, trigrams\n",
        "count_vect = CountVectorizer(ngram_range=(1, 3))\n",
        "\n"
      ],
      "metadata": {
        "id": "UCIeaY6Ei_o4"
      },
      "execution_count": 8,
      "outputs": []
    },
    {
      "cell_type": "code",
      "source": [
        "# fit & transform will represent each sentences\n",
        "# as Bag of n-grams representation\n",
        "BOW_nGram = count_vect.fit_transform(sentences)\n",
        "\n"
      ],
      "metadata": {
        "id": "ClOiF9u1jFcu"
      },
      "execution_count": 9,
      "outputs": []
    },
    {
      "cell_type": "code",
      "source": [
        "# Get the vocabulary\n",
        "print(\"Our vocabulary:\\n\", count_vect.vocabulary_)\n",
        "\n"
      ],
      "metadata": {
        "colab": {
          "base_uri": "https://localhost:8080/"
        },
        "id": "aHfh4qmSjHFu",
        "outputId": "52318cef-5d90-4fe6-c00a-3fd84529c96c"
      },
      "execution_count": 10,
      "outputs": [
        {
          "output_type": "stream",
          "name": "stdout",
          "text": [
            "Our vocabulary:\n",
            " {'geeksforgeeks': 9, 'geeks': 6, 'learning': 15, 'together': 18, 'geeks learning': 7, 'learning together': 17, 'geeks learning together': 8, 'is': 12, 'famous': 1, 'for': 4, 'dsa': 0, 'geeksforgeeks is': 10, 'is famous': 13, 'famous for': 2, 'for dsa': 5, 'geeksforgeeks is famous': 11, 'is famous for': 14, 'famous for dsa': 3, 'learning dsa': 16}\n"
          ]
        }
      ]
    },
    {
      "cell_type": "code",
      "source": [
        "# see the Bag of n-grams representation\n",
        "print('Ngram representation for \"{}\" is {}'\n",
        "\t.format(sentences[0], BOW_nGram[0].toarray()))\n",
        "print('Ngram representation for \"{}\" is {}'\n",
        "\t.format(sentences[1], BOW_nGram[1].toarray()))\n",
        "print('Ngram representation for \"{}\" is {}'.\n",
        "\tformat(sentences[2], BOW_nGram[2].toarray()))\n",
        "\n"
      ],
      "metadata": {
        "colab": {
          "base_uri": "https://localhost:8080/"
        },
        "id": "LdsLH4MLjIYP",
        "outputId": "fcddab86-4553-456f-9c60-9f02a6ba6176"
      },
      "execution_count": 11,
      "outputs": [
        {
          "output_type": "stream",
          "name": "stdout",
          "text": [
            "Ngram representation for \"geeksforgeeks\" is [[0 0 0 0 0 0 0 0 0 1 0 0 0 0 0 0 0 0 0]]\n",
            "Ngram representation for \"geeks learning together\" is [[0 0 0 0 0 0 1 1 1 0 0 0 0 0 0 1 0 1 1]]\n",
            "Ngram representation for \"geeksforgeeks is famous for dsa\" is [[1 1 1 1 1 1 0 0 0 1 1 1 1 1 1 0 0 0 0]]\n"
          ]
        }
      ]
    },
    {
      "cell_type": "code",
      "source": [
        "# Bag of n-grams representation for a new text\n",
        "BOW_nGram_ = count_vect.transform([\"learning dsa from geeksforgeeks together\"])\n",
        "print(\"Ngram representation for 'learning dsa from geeksforgeeks together' is\",\n",
        "\tBOW_nGram_.toarray())\n"
      ],
      "metadata": {
        "colab": {
          "base_uri": "https://localhost:8080/"
        },
        "id": "ecurxrMqjKM6",
        "outputId": "6ad6eb65-7bac-4b70-d66a-e62159d8badb"
      },
      "execution_count": 12,
      "outputs": [
        {
          "output_type": "stream",
          "name": "stdout",
          "text": [
            "Ngram representation for 'learning dsa from geeksforgeeks together' is [[1 0 0 0 0 0 0 0 0 1 0 0 0 0 0 1 1 0 1]]\n"
          ]
        }
      ]
    },
    {
      "cell_type": "markdown",
      "source": [
        "The output shows that the input text has been tokenized into sentences and processed to remove any periods and convert to lowercase. The vectorizer then computes the Bag of n-grams representation of each sentence, and the vocabulary used by the vectorizer is printed. Finally, the n-gram representation of a new text is computed and printed. The n-gram representations are in the form of a sparse matrix, where each row represents a sentence and each column represents an n-gram in the vocabulary. The values in the matrix indicate the frequency of the corresponding n-gram in the sentence."
      ],
      "metadata": {
        "id": "ex4QBhwDjXvQ"
      }
    },
    {
      "cell_type": "code",
      "source": [],
      "metadata": {
        "id": "WnrfDa_1jYVy"
      },
      "execution_count": null,
      "outputs": []
    }
  ]
}